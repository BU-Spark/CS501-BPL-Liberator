{
 "cells": [
  {
   "cell_type": "markdown",
   "id": "hired-picture",
   "metadata": {},
   "source": [
    "# Example of reading and writing the json object to create the final output"
   ]
  },
  {
   "cell_type": "code",
   "execution_count": 1,
   "id": "starting-boutique",
   "metadata": {},
   "outputs": [],
   "source": [
    "import json"
   ]
  },
  {
   "cell_type": "markdown",
   "id": "international-halloween",
   "metadata": {},
   "source": [
    "## Read JSON"
   ]
  },
  {
   "cell_type": "code",
   "execution_count": 2,
   "id": "unsigned-receptor",
   "metadata": {},
   "outputs": [],
   "source": [
    "path = \"./data/JSON_outputs/example_data.json\"\n",
    "f = open(path)\n",
    "json_object = json.load(f)\n",
    "issues = json_object[\"issues\"]"
   ]
  },
  {
   "cell_type": "markdown",
   "id": "inside-shock",
   "metadata": {},
   "source": [
    "## Subject prediction function (to become ML model)"
   ]
  },
  {
   "cell_type": "code",
   "execution_count": 3,
   "id": "italian-fundamentals",
   "metadata": {},
   "outputs": [],
   "source": [
    "def get_subjects(text):\n",
    "    return [\"slavery\", \"america\"]"
   ]
  },
  {
   "cell_type": "markdown",
   "id": "earlier-joyce",
   "metadata": {},
   "source": [
    "## Iterating through JSON, and writing the subject predictions to the object"
   ]
  },
  {
   "cell_type": "code",
   "execution_count": 4,
   "id": "acting-arbitration",
   "metadata": {},
   "outputs": [],
   "source": [
    "for issue_number, issue in enumerate(issues):\n",
    "    articles = issue[\"articles\"]\n",
    "    for article_number, article in enumerate(articles):\n",
    "        text = article[\"ocr_text\"]\n",
    "#         print(text == issues[issue_number][\"articles\"][article_number][\"ocr_text\"])\n",
    "        subjects = get_subjects(text)\n",
    "        issues[issue_number][\"articles\"][article_number][\"subjects\"] = subjects"
   ]
  },
  {
   "cell_type": "markdown",
   "id": "dedicated-conviction",
   "metadata": {},
   "source": [
    "## Show the predictions"
   ]
  },
  {
   "cell_type": "code",
   "execution_count": 5,
   "id": "obvious-chicago",
   "metadata": {},
   "outputs": [
    {
     "name": "stdout",
     "output_type": "stream",
     "text": [
      "['slavery', 'america']\n",
      "['slavery', 'america']\n",
      "['slavery', 'america']\n",
      "['slavery', 'america']\n",
      "['slavery', 'america']\n",
      "['slavery', 'america']\n",
      "['slavery', 'america']\n",
      "['slavery', 'america']\n",
      "['slavery', 'america']\n",
      "['slavery', 'america']\n",
      "['slavery', 'america']\n",
      "['slavery', 'america']\n",
      "['slavery', 'america']\n",
      "['slavery', 'america']\n",
      "['slavery', 'america']\n",
      "['slavery', 'america']\n",
      "['slavery', 'america']\n",
      "['slavery', 'america']\n",
      "['slavery', 'america']\n",
      "['slavery', 'america']\n",
      "['slavery', 'america']\n",
      "['slavery', 'america']\n",
      "['slavery', 'america']\n",
      "['slavery', 'america']\n",
      "['slavery', 'america']\n",
      "['slavery', 'america']\n",
      "['slavery', 'america']\n",
      "['slavery', 'america']\n",
      "['slavery', 'america']\n",
      "['slavery', 'america']\n",
      "['slavery', 'america']\n",
      "['slavery', 'america']\n",
      "['slavery', 'america']\n",
      "['slavery', 'america']\n"
     ]
    }
   ],
   "source": [
    "for issue_number, issue in enumerate(issues):\n",
    "    articles = issue[\"articles\"]\n",
    "    for article_number, article in enumerate(articles):\n",
    "        subjects = article[\"subjects\"]\n",
    "        print(subjects)"
   ]
  },
  {
   "cell_type": "markdown",
   "id": "modular-logic",
   "metadata": {},
   "source": [
    "## Write the JSON to file"
   ]
  },
  {
   "cell_type": "code",
   "execution_count": 6,
   "id": "promising-greek",
   "metadata": {},
   "outputs": [],
   "source": [
    "out_path = \"./data/JSON_outputs/example_final_data.json\"\n",
    "with open(out_path, \"w\") as f:\n",
    "    json.dump(json_object, f)"
   ]
  }
 ],
 "metadata": {
  "kernelspec": {
   "display_name": "ml-bpl-liberator",
   "language": "python",
   "name": "ml-bpl-liberator"
  },
  "language_info": {
   "codemirror_mode": {
    "name": "ipython",
    "version": 3
   },
   "file_extension": ".py",
   "mimetype": "text/x-python",
   "name": "python",
   "nbconvert_exporter": "python",
   "pygments_lexer": "ipython3",
   "version": "3.7.4"
  }
 },
 "nbformat": 4,
 "nbformat_minor": 5
}
