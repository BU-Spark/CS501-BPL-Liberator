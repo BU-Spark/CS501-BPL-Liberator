{
 "metadata": {
  "language_info": {
   "codemirror_mode": {
    "name": "ipython",
    "version": 3
   },
   "file_extension": ".py",
   "mimetype": "text/x-python",
   "name": "python",
   "nbconvert_exporter": "python",
   "pygments_lexer": "ipython3",
   "version": "3.8.2-final"
  },
  "orig_nbformat": 2,
  "kernelspec": {
   "name": "python382jvsc74a57bd031f2aee4e71d21fbe5cf8b01ff0e069b9275f58929596ceb00d14d90e3e16cd6",
   "display_name": "Python 3.8.2 64-bit"
  },
  "metadata": {
   "interpreter": {
    "hash": "31f2aee4e71d21fbe5cf8b01ff0e069b9275f58929596ceb00d14d90e3e16cd6"
   }
  }
 },
 "nbformat": 4,
 "nbformat_minor": 2,
 "cells": [
  {
   "cell_type": "code",
   "execution_count": 16,
   "metadata": {},
   "outputs": [],
   "source": [
    "import cv2\n",
    "import numpy as np \n",
    "import json\n"
   ]
  },
  {
   "cell_type": "code",
   "execution_count": 17,
   "metadata": {},
   "outputs": [],
   "source": [
    "def crop_article(filename,x1,y1,x2,y2,counter,issue,path=\"./croppedImages/\"):\n",
    "\n",
    "    im = cv2.imread(\"./data/articleSegment/\"+filename)\n",
    "    articlePath = os.path.join(path,\"ARTICLE_\"+str(counter)+\"_\"+issue+\".png\")\n",
    "    roi = im[x1:x2,y1:y2]\n",
    "    cv2.imwrite(articlePath, roi)\n",
    "    return {\n",
    "        \"path\": articlePath\n",
    "    }\n"
   ]
  },
  {
   "cell_type": "code",
   "execution_count": 54,
   "metadata": {},
   "outputs": [],
   "source": [
    "#testing\n",
    "# ./data/articleSegment/2_commonwealth_8k71pf94q_accessFull.jpg\n",
    "crop_article(\"2_commonwealth_8k71pf94q_accessFull.jpg\",316,0,5104,878,0)"
   ]
  },
  {
   "cell_type": "code",
   "execution_count": 18,
   "metadata": {},
   "outputs": [],
   "source": [
    "\n",
    "#Using the JSON file produced by the article segmentation code, this method crops the articles and saves their pathfiles into a JSON that the OCR method can then read\n",
    "def crop_articles_json(segmentJSONPath):\n",
    "    import json\n",
    "    f = open(segmentJSONPath)\n",
    "    jsonData = json.load(f)\n",
    "    counter = 0\n",
    "    issue = jsonData[0]['issue_id']\n",
    "    data = {\n",
    "        \"issue_id\": issue,\n",
    "        \"articles\": []\n",
    "    }\n",
    "    temp = data[\"articles\"]\n",
    "    with open(issue+\"_json_data.json\", \"w+\") as file:\n",
    "        for article in jsonData:\n",
    "            for image in article['images']:\n",
    "                fp = crop_article(image['filename'],image['coordinates'][0],image['coordinates'][1],image['coordinates'][2],image['coordinates'][3],counter,issue)\n",
    "                temp.append(fp)\n",
    "\n",
    "                counter += 1\n",
    "        json.dump(data,file, indent=4)\n"
   ]
  },
  {
   "cell_type": "code",
   "execution_count": 19,
   "metadata": {},
   "outputs": [],
   "source": [
    "#tesing\n",
    "crop_articles_json(\"./data/articleSegment/segment.json\")"
   ]
  },
  {
   "cell_type": "code",
   "execution_count": null,
   "metadata": {},
   "outputs": [],
   "source": []
  }
 ]
}