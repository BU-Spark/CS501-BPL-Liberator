{
 "metadata": {
  "language_info": {
   "codemirror_mode": {
    "name": "ipython",
    "version": 3
   },
   "file_extension": ".py",
   "mimetype": "text/x-python",
   "name": "python",
   "nbconvert_exporter": "python",
   "pygments_lexer": "ipython3",
   "version": "3.8.2-final"
  },
  "orig_nbformat": 2,
  "kernelspec": {
   "name": "python382jvsc74a57bd031f2aee4e71d21fbe5cf8b01ff0e069b9275f58929596ceb00d14d90e3e16cd6",
   "display_name": "Python 3.8.2 64-bit"
  },
  "metadata": {
   "interpreter": {
    "hash": "31f2aee4e71d21fbe5cf8b01ff0e069b9275f58929596ceb00d14d90e3e16cd6"
   }
  }
 },
 "nbformat": 4,
 "nbformat_minor": 2,
 "cells": [
  {
   "cell_type": "code",
   "execution_count": 23,
   "metadata": {},
   "outputs": [
    {
     "output_type": "stream",
     "name": "stdout",
     "text": [
      "./.creds/credentials.json\n"
     ]
    }
   ],
   "source": [
    "# Imports the Google Cloud client library\n",
    "from google.cloud import vision_v1 as vision\n",
    "import json\n",
    "import io\n",
    "# This environment variable needs to be set with your credentials\n",
    "os.environ[\"GOOGLE_APPLICATION_CREDENTIALS\"]=\"./.creds/credentials.json\"\n",
    "print(os.environ['GOOGLE_APPLICATION_CREDENTIALS']) "
   ]
  },
  {
   "cell_type": "code",
   "execution_count": 24,
   "metadata": {},
   "outputs": [],
   "source": [
    "def article_to_dict(ocr_text,title=\"null\",subtitle=\"null\",images=\"null\",subjects=\"null\",names=\"null\",locations=\"null\"):\n",
    "    data = {\n",
    "        \"title\": title,\n",
    "        \"subtitle\": subtitle,\n",
    "        \"images\": images,\n",
    "        \"ocr_text\": ocr_text,\n",
    "        \"subjects\": subjects,\n",
    "        \"names\": names,\n",
    "        \"locations\": locations\n",
    "    }\n",
    "    #jsonData = json.dumps(data, indent = 4)\n",
    "    return data"
   ]
  },
  {
   "cell_type": "code",
   "execution_count": 37,
   "metadata": {},
   "outputs": [],
   "source": [
    "def add_issue_to_json(issue, filename=\"data.json\"):\n",
    "    with open(filename, \"r+\") as file:\n",
    "        print(\"found file\")\n",
    "        data = json.load(file)\n",
    "        temp = data['issues']\n",
    "        temp.append(issue)\n",
    "        file.seek(0)\n",
    "        json.dump(data,file, indent=4)\n"
   ]
  },
  {
   "cell_type": "code",
   "execution_count": 27,
   "metadata": {},
   "outputs": [],
   "source": [
    "def articles_to_issue(issue_id, articles):\n",
    "    data = {\n",
    "        \"issue_id\": issue_id,\n",
    "        \"articles\": articles\n",
    "    }\n",
    "    return data\n",
    "\n"
   ]
  },
  {
   "cell_type": "code",
   "execution_count": 28,
   "metadata": {},
   "outputs": [],
   "source": [
    "def articleOCR(file_name):\n",
    "\n",
    "    # Instantiates a client\n",
    "    client = vision.ImageAnnotatorClient()\n",
    "\n",
    "    # Read in one of the column images to test out Google Cloud Vision DOCUMENT_TEXT_DETECTION\n",
    "\n",
    "\n",
    "    # Loads the image into memory\n",
    "    with io.open(file_name, 'rb') as image_file:\n",
    "        content = image_file.read()\n",
    "        \n",
    "    image = vision.Image(content=content)\n",
    "\n",
    "\n",
    "    # Hit the API and get back the text annotations (description is the good part)\n",
    "    response = client.document_text_detection(image=image)\n",
    "    if response.error.message:\n",
    "        raise Exception('{}'.format(response.error.message))\n",
    "        \n",
    "    texts = response.text_annotations\n",
    "\n",
    "    # Print the results \n",
    "    #for text in texts:\n",
    "  #      print('\\n\\n\\n\"{}\"'.format(text.description))\n",
    "   #     pass\n",
    "   # print(texts)\n",
    "\n",
    "    if(texts != []):\n",
    "        return texts[0].description.strip()\n",
    "    return \"NO TEXT FOUND\""
   ]
  },
  {
   "cell_type": "code",
   "execution_count": 29,
   "metadata": {},
   "outputs": [],
   "source": [
    "def issue_to_ocr(issueArticleFP):\n",
    "    with open(issueArticleFP, \"r+\") as file:\n",
    "        data = json.load(file)\n",
    "        issue = data[\"issue_id\"]\n",
    "        articles = []\n",
    "        for article in data[\"articles\"]:\n",
    "            article_text = articleOCR(article[\"path\"])\n",
    "            articles.append(article_to_dict(article_text))\n",
    "        issueData = articles_to_issue(issue,articles)\n",
    "        add_issue_to_json(issueData)\n",
    "    "
   ]
  },
  {
   "cell_type": "code",
   "execution_count": 42,
   "metadata": {},
   "outputs": [
    {
     "output_type": "stream",
     "name": "stdout",
     "text": [
      "found file\n"
     ]
    }
   ],
   "source": [
    "issue_to_ocr(\"8k71pf94q_json_data.json\")"
   ]
  },
  {
   "cell_type": "code",
   "execution_count": null,
   "metadata": {},
   "outputs": [],
   "source": []
  }
 ]
}