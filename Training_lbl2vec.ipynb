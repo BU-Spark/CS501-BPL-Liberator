{
 "cells": [
  {
   "cell_type": "markdown",
   "metadata": {},
   "source": [
    "# Training the Lbl2vec model"
   ]
  },
  {
   "cell_type": "markdown",
   "metadata": {},
   "source": [
    "## Imports"
   ]
  },
  {
   "cell_type": "code",
   "execution_count": 16,
   "metadata": {},
   "outputs": [],
   "source": [
    "import json\n",
    "import pandas as pd\n",
    "from lbl2vec import Lbl2Vec\n",
    "from gensim.utils import simple_preprocess\n",
    "from gensim.models.doc2vec import TaggedDocument\n",
    "from gensim.parsing.preprocessing import strip_tags"
   ]
  },
  {
   "cell_type": "markdown",
   "metadata": {},
   "source": [
    "## Creating Lbl2vec Data\n",
    "Columns: Title, Description"
   ]
  },
  {
   "cell_type": "markdown",
   "metadata": {},
   "source": [
    "### Read JSON"
   ]
  },
  {
   "cell_type": "code",
   "execution_count": 2,
   "metadata": {},
   "outputs": [],
   "source": [
    "path = \"./data/JSON_outputs/example_data.json\"\n",
    "f = open(path)\n",
    "json_object = json.load(f)\n",
    "issues = json_object[\"issues\"]"
   ]
  },
  {
   "cell_type": "markdown",
   "metadata": {},
   "source": [
    "### Get the Title/Text Dataframe"
   ]
  },
  {
   "cell_type": "code",
   "execution_count": 28,
   "metadata": {},
   "outputs": [
    {
     "data": {
      "text/html": [
       "<div>\n",
       "<style scoped>\n",
       "    .dataframe tbody tr th:only-of-type {\n",
       "        vertical-align: middle;\n",
       "    }\n",
       "\n",
       "    .dataframe tbody tr th {\n",
       "        vertical-align: top;\n",
       "    }\n",
       "\n",
       "    .dataframe thead th {\n",
       "        text-align: right;\n",
       "    }\n",
       "</style>\n",
       "<table border=\"1\" class=\"dataframe\">\n",
       "  <thead>\n",
       "    <tr style=\"text-align: right;\">\n",
       "      <th></th>\n",
       "      <th>title</th>\n",
       "      <th>text</th>\n",
       "    </tr>\n",
       "  </thead>\n",
       "  <tbody>\n",
       "    <tr>\n",
       "      <th>0</th>\n",
       "      <td></td>\n",
       "      <td>ulace. The only effectual way to refute false\\...</td>\n",
       "    </tr>\n",
       "    <tr>\n",
       "      <th>1</th>\n",
       "      <td>FOR SALE AT THIS OFFICE,\\nPAMPHLET,</td>\n",
       "      <td>FOR SALE AT THIS OFFICE,\\nPAMPHLET, entitled '...</td>\n",
       "    </tr>\n",
       "    <tr>\n",
       "      <th>2</th>\n",
       "      <td>ANTI-SLAVERY PUBLICATIONS</td>\n",
       "      <td>ANTI-SLAVERY PUBLICATIONS.\\nTHERE SOCIETY have...</td>\n",
       "    </tr>\n",
       "    <tr>\n",
       "      <th>3</th>\n",
       "      <td>SINGING SCHOOL</td>\n",
       "      <td>SINGING SCHOOL.\\nTHE subscriber would most res...</td>\n",
       "    </tr>\n",
       "    <tr>\n",
       "      <th>4</th>\n",
       "      <td></td>\n",
       "      <td>th\\nto\\nca\\nm\\nW\\nve\\n02\\nW\\nW\\nso\\na\\n0\\n74\\n...</td>\n",
       "    </tr>\n",
       "  </tbody>\n",
       "</table>\n",
       "</div>"
      ],
      "text/plain": [
       "                                  title  \\\n",
       "0                                         \n",
       "1  FOR SALE AT THIS OFFICE,\\nPAMPHLET,    \n",
       "2             ANTI-SLAVERY PUBLICATIONS   \n",
       "3                        SINGING SCHOOL   \n",
       "4                                         \n",
       "\n",
       "                                                text  \n",
       "0  ulace. The only effectual way to refute false\\...  \n",
       "1  FOR SALE AT THIS OFFICE,\\nPAMPHLET, entitled '...  \n",
       "2  ANTI-SLAVERY PUBLICATIONS.\\nTHERE SOCIETY have...  \n",
       "3  SINGING SCHOOL.\\nTHE subscriber would most res...  \n",
       "4  th\\nto\\nca\\nm\\nW\\nve\\n02\\nW\\nW\\nso\\na\\n0\\n74\\n...  "
      ]
     },
     "execution_count": 28,
     "metadata": {},
     "output_type": "execute_result"
    }
   ],
   "source": [
    "# Iterate through the json, get the texts and titles\n",
    "\n",
    "texts = []\n",
    "titles = []\n",
    "\n",
    "for issue_number, issue in enumerate(issues):\n",
    "    articles = issue[\"articles\"]\n",
    "    for article_number, article in enumerate(articles):\n",
    "        text = article[\"ocr_text\"]\n",
    "        title = article[\"title\"]\n",
    "        texts.append(text)\n",
    "        titles.append(title)\n",
    "\n",
    "# Generate the dataframe\n",
    "\n",
    "df = pd.DataFrame({\n",
    "    \"title\": titles,\n",
    "    \"text\": texts\n",
    "})\n",
    "\n",
    "# When previous step of the pipeline fails to get the title\n",
    "# replace the title with the empty string\n",
    "\n",
    "df = df.replace({\n",
    "    \"null\": \"\"\n",
    "})\n",
    "\n",
    "df.head()"
   ]
  },
  {
   "cell_type": "markdown",
   "metadata": {},
   "source": [
    "### Tokenize Data"
   ]
  },
  {
   "cell_type": "code",
   "execution_count": 23,
   "metadata": {},
   "outputs": [],
   "source": [
    "# doc: document text string\n",
    "# returns tokenized document\n",
    "# strip_tags removes meta tags from the text\n",
    "# simple preprocess converts a document into a list of lowercase tokens, ignoring tokens that are too short or too long \n",
    "# simple preprocess also removes numerical values as well as punktuation characters\n",
    "def tokenize(doc):\n",
    "    return simple_preprocess(strip_tags(doc), deacc=True, min_len=2, max_len=15)"
   ]
  },
  {
   "cell_type": "code",
   "execution_count": 29,
   "metadata": {},
   "outputs": [],
   "source": [
    "# tokenize and tag documents combined title + description for Lbl2Vec training\n",
    "df['tagged_docs'] = df.apply(lambda row: TaggedDocument(tokenize(row['title'] + '. ' + row['text']), [str(row.name)]), axis=1)"
   ]
  },
  {
   "cell_type": "markdown",
   "metadata": {},
   "source": [
    "## Train and Save the Model"
   ]
  },
  {
   "cell_type": "code",
   "execution_count": null,
   "metadata": {},
   "outputs": [],
   "source": [
    "# init model with parameters\n",
    "lbl2vec_model = Lbl2Vec(keywords_list=list(labels['keywords']), tagged_documents=df['tagged_docs'], label_names=list(labels['class_name']), similarity_threshold=0.30, min_num_docs=100, epochs=10)"
   ]
  },
  {
   "cell_type": "code",
   "execution_count": null,
   "metadata": {},
   "outputs": [],
   "source": [
    "lbl2vec_model.fit()"
   ]
  },
  {
   "cell_type": "code",
   "execution_count": null,
   "metadata": {},
   "outputs": [],
   "source": [
    "lbl2vec_model.save(\".\")"
   ]
  }
 ],
 "metadata": {
  "interpreter": {
   "hash": "31f2aee4e71d21fbe5cf8b01ff0e069b9275f58929596ceb00d14d90e3e16cd6"
  },
  "kernelspec": {
   "display_name": "Python 3.8.2 64-bit",
   "language": "python",
   "name": "python3"
  },
  "language_info": {
   "codemirror_mode": {
    "name": "ipython",
    "version": 3
   },
   "file_extension": ".py",
   "mimetype": "text/x-python",
   "name": "python",
   "nbconvert_exporter": "python",
   "pygments_lexer": "ipython3",
   "version": "3.8.2"
  },
  "orig_nbformat": 4
 },
 "nbformat": 4,
 "nbformat_minor": 2
}
