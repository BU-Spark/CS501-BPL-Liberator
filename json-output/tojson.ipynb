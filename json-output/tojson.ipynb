{
 "metadata": {
  "language_info": {
   "codemirror_mode": {
    "name": "ipython",
    "version": 3
   },
   "file_extension": ".py",
   "mimetype": "text/x-python",
   "name": "python",
   "nbconvert_exporter": "python",
   "pygments_lexer": "ipython3",
   "version": "3.8.2-final"
  },
  "orig_nbformat": 2,
  "kernelspec": {
   "name": "python382jvsc74a57bd031f2aee4e71d21fbe5cf8b01ff0e069b9275f58929596ceb00d14d90e3e16cd6",
   "display_name": "Python 3.8.2 64-bit"
  },
  "metadata": {
   "interpreter": {
    "hash": "31f2aee4e71d21fbe5cf8b01ff0e069b9275f58929596ceb00d14d90e3e16cd6"
   }
  }
 },
 "nbformat": 4,
 "nbformat_minor": 2,
 "cells": [
  {
   "cell_type": "code",
   "execution_count": 1,
   "metadata": {},
   "outputs": [],
   "source": [
    "import json\n",
    "\n",
    "#The structure of the final JSON is as follows\n",
    "# JSON\n",
    "#   - ISSUES\n",
    "#       - issue_id\n",
    "#       - ARTICLES\n",
    "#           - Title\n",
    "#           - Subtitle\n",
    "#           - IMAGES\n",
    "#               - id\n",
    "#               - coordinates\n",
    "#           - ocr_text\n",
    "#           - SUBJECTS\n",
    "#               - label\n",
    "#               - uri\n",
    "#           - NAMES\n",
    "#               - label\n",
    "#               - uri               \n",
    "#           - LOCATIONS\n",
    "#               - label\n",
    "#               - uri    \n",
    "\n",
    "\n",
    "# The idea would be to build each article individually and then create an issue out of that and then append that to the final JSON file with all of the issues"
   ]
  },
  {
   "cell_type": "code",
   "execution_count": 15,
   "metadata": {},
   "outputs": [
    {
     "output_type": "stream",
     "name": "stdout",
     "text": [
      "[{'title': 'testTitle', 'subtitle': 'testSubtitle', 'images': [{'id': 0, 'coordinates': [1, 2, 3, 4]}, {'id': 1, 'coordinates': [5, 6, 7, 8]}], 'ocr_text': 'testOCR', 'subjects': [{'label': 'This is the first Label', 'uri': 'http://id.loc.gov/subjects/test1'}, {'label': 'This is the second Label', 'uri': 'http://id.loc.gov/subjects/test2'}], 'names': [{'label': 'This is the first Name', 'uri': 'http://id.loc.gov/names/test1'}, {'label': 'This is the second Name', 'uri': 'http://id.loc.gov/names/test2'}], 'locations': [{'label': 'This is the first Location', 'uri': 'http://vocab.getty.edu/tgn/test1'}, {'label': 'This is the second Location', 'uri': 'http://vocab.getty.edu/tgn/test2'}]}]\n"
     ]
    }
   ],
   "source": [
    "#Take the article information and build a dictionary out of it\n",
    "def article_to_dict(title,subtitle,images,ocr_text,subjects,names,locations):\n",
    "    data = {\n",
    "        \"title\": title,\n",
    "        \"subtitle\": subtitle,\n",
    "        \"images\": images,\n",
    "        \"ocr_text\": ocr_text,\n",
    "        \"subjects\": subjects,\n",
    "        \"names\": names,\n",
    "        \"locations\": locations\n",
    "    }\n",
    "    #jsonData = json.dumps(data, indent = 4)\n",
    "    return data\n",
    "\n",
    "testImages = [\n",
    "    {\n",
    "        \"id\": 0,\n",
    "        \"coordinates\": [1,2,3,4]\n",
    "    },\n",
    "    {\n",
    "        \"id\": 1,\n",
    "        \"coordinates\": [5,6,7,8]\n",
    "    }\n",
    "]\n",
    "testSubjects = [\n",
    "    {\n",
    "        \"label\": \"This is the first Label\",\n",
    "        \"uri\": \"http://id.loc.gov/subjects/test1\"\n",
    "    },\n",
    "    {\n",
    "        \"label\": \"This is the second Label\",\n",
    "        \"uri\": \"http://id.loc.gov/subjects/test2\"\n",
    "    }\n",
    "]\n",
    "\n",
    "testNames = [\n",
    "    {\n",
    "        \"label\": \"This is the first Name\",\n",
    "        \"uri\": \"http://id.loc.gov/names/test1\"\n",
    "    },\n",
    "    {\n",
    "        \"label\": \"This is the second Name\",\n",
    "        \"uri\": \"http://id.loc.gov/names/test2\"\n",
    "    }\n",
    "]\n",
    "\n",
    "testLocations = [\n",
    "    {\n",
    "        \"label\": \"This is the first Location\",\n",
    "        \"uri\": \"http://vocab.getty.edu/tgn/test1\"\n",
    "    },\n",
    "    {\n",
    "        \"label\": \"This is the second Location\",\n",
    "        \"uri\": \"http://vocab.getty.edu/tgn/test2\"\n",
    "    }\n",
    "]\n",
    "\n",
    "testArticles = [article_to_dict(\"testTitle\",\"testSubtitle\",testImages,\"testOCR\",testSubjects,testNames,testLocations)]\n",
    "print(test)"
   ]
  },
  {
   "cell_type": "code",
   "execution_count": 19,
   "metadata": {},
   "outputs": [
    {
     "output_type": "stream",
     "name": "stdout",
     "text": [
      "{'issue_id': 'testIssueID', 'articles': [{'title': 'testTitle', 'subtitle': 'testSubtitle', 'images': [{'id': 0, 'coordinates': [1, 2, 3, 4]}, {'id': 1, 'coordinates': [5, 6, 7, 8]}], 'ocr_text': 'testOCR', 'subjects': [{'label': 'This is the first Label', 'uri': 'http://id.loc.gov/subjects/test1'}, {'label': 'This is the second Label', 'uri': 'http://id.loc.gov/subjects/test2'}], 'names': [{'label': 'This is the first Name', 'uri': 'http://id.loc.gov/names/test1'}, {'label': 'This is the second Name', 'uri': 'http://id.loc.gov/names/test2'}], 'locations': [{'label': 'This is the first Location', 'uri': 'http://vocab.getty.edu/tgn/test1'}, {'label': 'This is the second Location', 'uri': 'http://vocab.getty.edu/tgn/test2'}]}]}\n"
     ]
    }
   ],
   "source": [
    "#take a list of articles (as dictionaries) and create an issue out of them\n",
    "def articles_to_issue(issue_id, articles):\n",
    "    data = {\n",
    "        \"issue_id\": issue_id,\n",
    "        \"articles\": articles\n",
    "    }\n",
    "    return data\n",
    "\n",
    "testIssue = articles_to_issue(\"testIssueID\",testArticles)\n",
    "print(testIssue)"
   ]
  },
  {
   "cell_type": "code",
   "execution_count": 28,
   "metadata": {},
   "outputs": [
    {
     "output_type": "stream",
     "name": "stdout",
     "text": [
      "found file\n"
     ]
    }
   ],
   "source": [
    "#Take the current JSON file and append the new issue onto it\n",
    "def add_issue_to_json(issue, filename=\"data.json\"):\n",
    "    with open(filename, \"r+\") as file:\n",
    "        print(\"found file\")\n",
    "        data = json.load(file)\n",
    "        temp = data['issues']\n",
    "        temp.append(issue)\n",
    "        file.seek(0)\n",
    "        json.dump(data,file, indent=4)\n",
    "\n",
    "add_issue_to_json(testIssue)"
   ]
  },
  {
   "cell_type": "code",
   "execution_count": null,
   "metadata": {},
   "outputs": [],
   "source": []
  }
 ]
}